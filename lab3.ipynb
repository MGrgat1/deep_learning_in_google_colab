{
  "nbformat": 4,
  "nbformat_minor": 0,
  "metadata": {
    "colab": {
      "name": "lab3.ipynb",
      "provenance": [],
      "collapsed_sections": [],
      "authorship_tag": "ABX9TyOYAFGiAcTqi14TpWaAIA2F",
      "include_colab_link": true
    },
    "kernelspec": {
      "name": "python3",
      "display_name": "Python 3"
    },
    "language_info": {
      "name": "python"
    },
    "accelerator": "GPU"
  },
  "cells": [
    {
      "cell_type": "markdown",
      "metadata": {
        "id": "view-in-github",
        "colab_type": "text"
      },
      "source": [
        "<a href=\"https://colab.research.google.com/github/MGrgat1/deep_learning_in_google_colab/blob/main/lab3.ipynb\" target=\"_parent\"><img src=\"https://colab.research.google.com/assets/colab-badge.svg\" alt=\"Open In Colab\"/></a>"
      ]
    },
    {
      "cell_type": "markdown",
      "source": [
        "Torch and cuda"
      ],
      "metadata": {
        "id": "NZHyiNlM6WDR"
      }
    },
    {
      "cell_type": "code",
      "source": [
        "import torch\n",
        "import numpy\n",
        "import matplotlib.pyplot as plt\n",
        "\n",
        "print(\"Torch, version:\")\n",
        "print(torch.__version__)\n",
        "print(\"Cuda enabled:\")\n",
        "print(torch.cuda.is_available())\n",
        "\n",
        "\n"
      ],
      "metadata": {
        "colab": {
          "base_uri": "https://localhost:8080/"
        },
        "id": "aZMfjGhz4NtH",
        "outputId": "42ca5444-20c9-4890-b85c-ecd95f600042"
      },
      "execution_count": null,
      "outputs": [
        {
          "output_type": "stream",
          "name": "stdout",
          "text": [
            "Torch, version:\n",
            "1.10.0+cu111\n",
            "Cuda enabled:\n",
            "True\n",
            "tensor([[0, 0, 0],\n",
            "        [0, 0, 0],\n",
            "        [0, 0, 0]], dtype=torch.int32)\n",
            "tensor([[0., 0., 0.],\n",
            "        [0., 0., 0.],\n",
            "        [0., 0., 0.]])\n"
          ]
        }
      ]
    },
    {
      "cell_type": "markdown",
      "source": [
        "Tensor multiplication on the CPU (not using CUDA)\n"
      ],
      "metadata": {
        "id": "-yUiMme86J4M"
      }
    },
    {
      "cell_type": "code",
      "source": [
        "print(\"Is A on cuda:\")\n",
        "print(a.is_cuda)\n",
        "print(\"Is B on cuda:\")\n",
        "print(b.is_cuda)\n",
        "\n",
        "a = torch.randint(0, 10, (3,3), dtype=torch.int)\n",
        "print(\"A:\")\n",
        "print(a)\n",
        "b = torch.randint(0, 10, (3,3), dtype=torch.int)\n",
        "print(\"B:\")\n",
        "print(b)\n",
        "\n",
        "print(\"A*B:\")\n",
        "print(a.mul(b))\n"
      ],
      "metadata": {
        "colab": {
          "base_uri": "https://localhost:8080/"
        },
        "id": "J89_hxjS5pGL",
        "outputId": "76ddad61-25aa-4ca5-c5d0-84c3dfc7c300"
      },
      "execution_count": null,
      "outputs": [
        {
          "output_type": "stream",
          "name": "stdout",
          "text": [
            "A:\n",
            "tensor([[2, 5, 2],\n",
            "        [9, 6, 2],\n",
            "        [8, 7, 7]], dtype=torch.int32)\n",
            "B:\n",
            "tensor([[4, 2, 3],\n",
            "        [7, 3, 7],\n",
            "        [6, 4, 1]], dtype=torch.int32)\n",
            "A*B:\n",
            "tensor([[ 8, 10,  6],\n",
            "        [63, 18, 14],\n",
            "        [48, 28,  7]], dtype=torch.int32)\n",
            "Is A on cuda:\n",
            "False\n",
            "Is B on cuda:\n",
            "False\n"
          ]
        }
      ]
    },
    {
      "cell_type": "markdown",
      "source": [
        "Tensor multiplication on the GPU\n"
      ],
      "metadata": {
        "id": "4BmuUwXd87H4"
      }
    },
    {
      "cell_type": "code",
      "source": [
        "dev = torch.device('cuda') if torch.cuda.is_available() else torch.device('cpu')\n",
        "\n",
        "a = torch.randint(0, 10, (3,3), device=dev, dtype=torch.int)\n",
        "b = torch.randint(0, 10, (3,3), device=dev, dtype=torch.int)\n",
        "\n",
        "print(\"A*B:\")\n",
        "print(a.mul(b))\n",
        "\n",
        "print(\"Is A on cuda:\")\n",
        "print(a.is_cuda)\n",
        "print(\"Is B on cuda:\")\n",
        "print(b.is_cuda)"
      ],
      "metadata": {
        "colab": {
          "base_uri": "https://localhost:8080/"
        },
        "id": "mRnHkK218-6a",
        "outputId": "eaedcffe-f721-4256-f26c-e1a1996774cc"
      },
      "execution_count": null,
      "outputs": [
        {
          "output_type": "stream",
          "name": "stdout",
          "text": [
            "A*B:\n",
            "tensor([[15,  3, 36],\n",
            "        [21, 15, 14],\n",
            "        [21, 16,  5]], device='cuda:0', dtype=torch.int32)\n",
            "Is A on cuda:\n",
            "True\n",
            "Is B on cuda:\n",
            "True\n"
          ]
        }
      ]
    },
    {
      "cell_type": "markdown",
      "source": [
        "Comparing CPU and GPU performance"
      ],
      "metadata": {
        "id": "1uQ92aoa9adz"
      }
    },
    {
      "cell_type": "code",
      "source": [
        "import time\n",
        "\n",
        "a = torch.randint(0, 10, (4000,4000), dtype=torch.int)\n",
        "b = torch.randint(0, 10, (4000,4000), dtype=torch.int)\n",
        "\n",
        "startCPU = time.time()\n",
        "for i in range(1000):\n",
        "    c = a.mul(b)\n",
        "endCPU = time.time()\n",
        "print(\"CPU execution time:\")\n",
        "print(endCPU - startCPU)\n",
        "\n",
        "a = a.cuda()\n",
        "b = b.cuda()\n",
        "\n",
        "startGPU = time.time()\n",
        "for i in range(1000):\n",
        "    c = a.mul(b)\n",
        "endGPU = time.time()\n",
        "print(\"GPU execution time:\")\n",
        "print(endGPU - startGPU)"
      ],
      "metadata": {
        "colab": {
          "base_uri": "https://localhost:8080/"
        },
        "id": "njbNofNa9anx",
        "outputId": "7931cf91-5b9a-4015-b61a-7f97807ddc27"
      },
      "execution_count": null,
      "outputs": [
        {
          "output_type": "stream",
          "name": "stdout",
          "text": [
            "CPU execution time:\n",
            "19.11906623840332\n",
            "GPU execution time:\n",
            "0.0073850154876708984\n"
          ]
        }
      ]
    }
  ]
}